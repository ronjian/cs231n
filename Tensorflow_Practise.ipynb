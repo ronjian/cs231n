{
 "cells": [
  {
   "cell_type": "code",
   "execution_count": 1,
   "metadata": {
    "collapsed": true
   },
   "outputs": [],
   "source": [
    "import tensorflow as tf\n",
    "import numpy as np"
   ]
  },
  {
   "cell_type": "code",
   "execution_count": 8,
   "metadata": {},
   "outputs": [],
   "source": [
    "#reset graph(nodes+variables)\n",
    "tf.reset_default_graph\n",
    "#tensorBoard log path\n",
    "file_writer = tf.summary.FileWriter('/Users/user/Desktop/', sess.graph)\n",
    "#define nodes and variables, no data computed\n",
    "x = tf.placeholder(tf.float32, (100, 20))\n",
    "b = tf.Variable(tf.zeros((30,)),name ='b')\n",
    "w = tf.Variable(tf.random_uniform((20,30), -1, 1), name = 'w')\n",
    "h = tf.nn.relu(tf.matmul(x, w) + b)\n",
    "tf.summary.histogram('h', h)\n",
    "label = tf.placeholder(tf.float32, (100, 30))\n",
    "#define a loss\n",
    "prediction = tf.nn.softmax(h)\n",
    "cross_entroy = tf.reduce_sum(label*tf.log(prediction), axis=1)\n",
    "lr = 0.2\n",
    "#opimizier\n",
    "optimizer = tf.train.GradientDescentOptimizer(lr)\n",
    "train_step = optimizer.minimize(cross_entroy)\n",
    "#training value\n",
    "x_value = np.random.randn(100,20)\n",
    "label_value = np.random.randn(100,30)\n",
    "#variable sharing\n",
    "#when reuse is \"False\", \n",
    "#every time will create a new scope\n",
    "#if the scope name has been occupied,\n",
    "#tensorflow will give a postfix for the scope name like \"_1\"\n",
    "#When reuse is \"True\",\n",
    "#tensorflow will looking for the scope name in existing scope list,\n",
    "#if fail to find, will raise error\n",
    "with tf.variable_scope(\"myScope\",reuse=True):\n",
    "    b = tf.get_variable('b',(30,))\n",
    "    w = tf.get_variable('w',(20,30))\n",
    "with tf.variable_scope(\"myScope\",reuse=True):\n",
    "    b = tf.get_variable('b')\n",
    "    w = tf.get_variable('w')\n",
    "    tf.summary.scalar('w', w)\n",
    "assert b.name == \"myScope/b:0\"\n",
    "assert w.name == \"myScope/w:0\""
   ]
  },
  {
   "cell_type": "code",
   "execution_count": 9,
   "metadata": {},
   "outputs": [],
   "source": [
    "with tf.Session() as sess:\n",
    "    for i in range(100):\n",
    "        #initial global variables(here is w, b)\n",
    "        sess.run(tf.global_variables_initializer())\n",
    "        #fetch=h, feed={x: x_value} --> output the value of h\n",
    "        sess.run(train_step, {x: x_value,label: label_value})"
   ]
  },
  {
   "cell_type": "code",
   "execution_count": 10,
   "metadata": {},
   "outputs": [
    {
     "data": {
      "text/plain": [
       "[<tf.Variable 'myScope/b:0' shape=(30,) dtype=float32_ref>,\n",
       " <tf.Variable 'myScope/w:0' shape=(20, 30) dtype=float32_ref>]"
      ]
     },
     "execution_count": 10,
     "metadata": {},
     "output_type": "execute_result"
    }
   ],
   "source": [
    "tf.get_collection(tf.GraphKeys.GLOBAL_VARIABLES, scope='myScope')"
   ]
  },
  {
   "cell_type": "code",
   "execution_count": null,
   "metadata": {},
   "outputs": [
    {
     "name": "stdout",
     "output_type": "stream",
     "text": [
      "TensorBoard 0.1.8 at http://Rongs-MacBook.local:6006 (Press CTRL+C to quit)\r\n"
     ]
    }
   ],
   "source": [
    "!tensorboard --logdir /Users/user/Desktop/"
   ]
  },
  {
   "cell_type": "code",
   "execution_count": null,
   "metadata": {
    "collapsed": true
   },
   "outputs": [],
   "source": []
  }
 ],
 "metadata": {
  "kernelspec": {
   "display_name": "Python [default]",
   "language": "python",
   "name": "python3"
  },
  "language_info": {
   "codemirror_mode": {
    "name": "ipython",
    "version": 3
   },
   "file_extension": ".py",
   "mimetype": "text/x-python",
   "name": "python",
   "nbconvert_exporter": "python",
   "pygments_lexer": "ipython3",
   "version": "3.6.1"
  }
 },
 "nbformat": 4,
 "nbformat_minor": 2
}
